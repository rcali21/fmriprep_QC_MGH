{
 "cells": [
  {
   "cell_type": "code",
   "execution_count": 44,
   "metadata": {},
   "outputs": [],
   "source": [
    "import os\n",
    "import mriqc\n",
    "import pandas as pd\n",
    "import matplotlib as plt\n",
    "import numpy as np\n",
    "import argparse\n",
    "\n",
    "\n"
   ]
  },
  {
   "cell_type": "code",
   "execution_count": 45,
   "metadata": {},
   "outputs": [],
   "source": [
    "# parse arguments\n",
    "# parser = argparse.ArgumentParser(description='Quality control script that utilizes fMRIprep outputs to generate a more detailed single-subject QC report. Developed by: Ryan Cali for NICC Lab at Massachusetts General Hospital.')\n",
    "# parser.add_argument('-i', '--input', help='Subject-level fmriprep directory.', required=True)\n",
    "# parser.add_argument('-o', '--output', help='Output directory-only requried if you wish to save QC figures.', required=False)\n",
    "# args = parser.parse_args()\n",
    "\n",
    "\n"
   ]
  },
  {
   "cell_type": "code",
   "execution_count": 46,
   "metadata": {},
   "outputs": [],
   "source": [
    "# subject_path = args.input\n",
    "# if args.output:\n",
    "#     output_path = args.output\n",
    "\n"
   ]
  },
  {
   "cell_type": "code",
   "execution_count": 47,
   "metadata": {},
   "outputs": [],
   "source": [
    "subject_path = '/Users/rjc73/Dropbox (Partners HealthCare)/Ryan/sub-0001'\n",
    "os.listdir(subject_path)\n",
    "# find the substring 'sub-' in the path and set that to subject_name\n",
    "subject_name = subject_path.split('/')[-1]\n",
    "subject_name = subject_name.split('_')[0]\n",
    "\n",
    "\n"
   ]
  },
  {
   "cell_type": "code",
   "execution_count": 48,
   "metadata": {},
   "outputs": [
    {
     "name": "stdout",
     "output_type": "stream",
     "text": [
      "Derivatives directory for sub-0001 found.\n"
     ]
    }
   ],
   "source": [
    "# if 'derivatives' directory found in subject_path, then cd into it\n",
    "if os.path.exists(os.path.join(subject_path, 'derivatives')):\n",
    "    os.chdir(os.path.join(subject_path, 'derivatives'))\n",
    "    print('Derivatives directory for', subject_name, 'found.')\n",
    "else:\n",
    "    print('Derivatives directory for ', subject_name, ' not found!')\n",
    "    exit()\n"
   ]
  },
  {
   "cell_type": "code",
   "execution_count": null,
   "metadata": {},
   "outputs": [],
   "source": []
  }
 ],
 "metadata": {
  "kernelspec": {
   "display_name": "Python 3.8.5 ('base')",
   "language": "python",
   "name": "python3"
  },
  "language_info": {
   "codemirror_mode": {
    "name": "ipython",
    "version": 3
   },
   "file_extension": ".py",
   "mimetype": "text/x-python",
   "name": "python",
   "nbconvert_exporter": "python",
   "pygments_lexer": "ipython3",
   "version": "3.8.5"
  },
  "orig_nbformat": 4,
  "vscode": {
   "interpreter": {
    "hash": "6c45cb808adc4c30e703ce7faf15aa4c2dd14c5b15acc9cbf090cf2b1b39cb1d"
   }
  }
 },
 "nbformat": 4,
 "nbformat_minor": 2
}
